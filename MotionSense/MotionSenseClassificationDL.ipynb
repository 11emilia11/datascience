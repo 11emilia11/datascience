{
  "nbformat": 4,
  "nbformat_minor": 0,
  "metadata": {
    "colab": {
      "name": "MotionSenseClassificationDL.ipynb",
      "provenance": [],
      "collapsed_sections": []
    },
    "kernelspec": {
      "name": "python3",
      "display_name": "Python 3"
    }
  },
  "cells": [
    {
      "cell_type": "code",
      "metadata": {
        "id": "fejdC1ozSzUH",
        "colab": {
          "base_uri": "https://localhost:8080/",
          "height": 163
        },
        "outputId": "bd01f108-4b17-422b-e6f8-1c0afe012a67"
      },
      "source": [
        "# carregando as bibliotecas que serão utilizadas\n",
        "\n",
        "from google.colab import drive\n",
        "drive.mount('/content/gdrive', force_remount=True)\n",
        "\n",
        "import pandas as pd\n",
        "import numpy as np\n",
        "import matplotlib.pyplot as plt\n",
        "import glob\n",
        "import pylab as pl\n",
        "import seaborn as sns\n",
        "import os\n",
        "\n",
        "from sklearn.cluster import KMeans\n",
        "from sklearn.cluster import AgglomerativeClustering\n",
        "from sklearn.model_selection import train_test_split\n",
        "\n",
        "import keras\n",
        "from keras.models import Sequential\n",
        "from keras.layers import Dense\n",
        "from sklearn.metrics import confusion_matrix, accuracy_score\n",
        "\n",
        "from keras.utils import to_categorical\n",
        "from sklearn.decomposition import PCA\n",
        "\n",
        "from sklearn.metrics import accuracy_score\n",
        "from sklearn.metrics import precision_score\n",
        "from sklearn.metrics import recall_score\n",
        "from sklearn.metrics import f1_score"
      ],
      "execution_count": null,
      "outputs": [
        {
          "output_type": "stream",
          "text": [
            "Go to this URL in a browser: https://accounts.google.com/o/oauth2/auth?client_id=947318989803-6bn6qk8qdgf4n4g3pfee6491hc0brc4i.apps.googleusercontent.com&redirect_uri=urn%3aietf%3awg%3aoauth%3a2.0%3aoob&scope=email%20https%3a%2f%2fwww.googleapis.com%2fauth%2fdocs.test%20https%3a%2f%2fwww.googleapis.com%2fauth%2fdrive%20https%3a%2f%2fwww.googleapis.com%2fauth%2fdrive.photos.readonly%20https%3a%2f%2fwww.googleapis.com%2fauth%2fpeopleapi.readonly&response_type=code\n",
            "\n",
            "Enter your authorization code:\n",
            "··········\n",
            "Mounted at /content/gdrive\n"
          ],
          "name": "stdout"
        },
        {
          "output_type": "stream",
          "text": [
            "/usr/local/lib/python3.6/dist-packages/statsmodels/tools/_testing.py:19: FutureWarning: pandas.util.testing is deprecated. Use the functions in the public API at pandas.testing instead.\n",
            "  import pandas.util.testing as tm\n"
          ],
          "name": "stderr"
        }
      ]
    },
    {
      "cell_type": "code",
      "metadata": {
        "id": "PiiaPJ5FSIZ2"
      },
      "source": [
        "root_path = 'gdrive/My Drive/SelecaoAIBox/'"
      ],
      "execution_count": null,
      "outputs": []
    },
    {
      "cell_type": "code",
      "metadata": {
        "id": "NbdTRlr7qYgV"
      },
      "source": [
        "# função para carregar os dados de uma pasta e adicionar a classe\n",
        "def load_files(path, class_num):\n",
        "  \n",
        "  data = pd.DataFrame()\n",
        "  new_path = sorted(os.listdir(path), key=lambda x: int(\"\".join([i for i in x if i.isdigit()])))\n",
        "\n",
        "  for i,doc in enumerate(new_path):\n",
        "    data_aux = pd.read_csv(path + doc)\n",
        "\n",
        "    # criando coluna de classe para cada df\n",
        "    data_aux['class'] = class_num\n",
        "    data_aux['code'] = i + 1\n",
        "  \n",
        "\n",
        "    data = pd.concat([data,data_aux])\n",
        "  \n",
        "  return data\n"
      ],
      "execution_count": null,
      "outputs": []
    },
    {
      "cell_type": "code",
      "metadata": {
        "id": "D9G8cSVOtKBO"
      },
      "source": [
        "# Carregando a base de dados e adicionando a coluna de classes\n",
        "\n",
        "# classe 1 - dws (Downstairs)\n",
        "df_d1 = load_files(root_path+'data/dws_1/', 0)\n",
        "df_d2 = load_files(root_path+'data/dws_2/', 0)\n",
        "df_d11 = load_files(root_path+'data/dws_11/',0)\n",
        "\n",
        "# classe 2 - ups (Upstairs)\n",
        "df_u3 = load_files(root_path+'data/ups_3/', 1)\n",
        "df_u4 = load_files(root_path+'data/ups_4/', 1)\n",
        "df_u12 = load_files(root_path+'data/ups_12/', 1)\n",
        "\n",
        "# classe 3 - sit (Sitting)\n",
        "df_si5 = load_files(root_path+'data/sit_5/', 2)\n",
        "df_si13 = load_files(root_path+'data/sit_13/', 2)\n",
        "\n",
        "# classe 4 - std (Standing)\n",
        "df_st6 = load_files(root_path+'data/std_6/', 3)\n",
        "df_st14 = load_files(root_path+'data/std_14/', 3)\n",
        "\n",
        "# classe 5 - wlk (Walking)\n",
        "df_w7 = load_files(root_path+'data/wlk_7/', 4)\n",
        "df_w8 = load_files(root_path+'data/wlk_8/', 4)\n",
        "df_w15 = load_files(root_path+'data/wlk_15/', 4)\n",
        "\n",
        "# classe 6 - jog (Jogging)\n",
        "df_j9 = load_files(root_path+'data/jog_9/', 5)\n",
        "df_j16 = load_files(root_path+'data/jog_16/',5)\n",
        "\n",
        "# criar colunas para categorizar os dados de acordo com o tempo da atividade\n",
        "\n",
        "# 1 - long trials (pastas de 1 a 9)\n",
        "lista_long_trials = [ df_d1, df_d2, df_u3, df_u4, df_si5, df_st6, df_w7, \n",
        "                     df_w8, df_j9]\n",
        "\n",
        "# criando dataframe com todos os dados de long trials\n",
        "df_longs = pd.concat(lista_long_trials)\n",
        "\n",
        "# adicionando coluna para identificar o tipo de atividade\n",
        "df_longs['trial'] = 1 # 1 para long \n",
        "\n",
        "# 2 - short trials (pastas de 11 a 16)\n",
        "lista_short_trials = [ df_d11, df_u12, df_si13, df_st14, df_w15, df_j16]\n",
        "\n",
        "# dataframe para short trials\n",
        "df_shorts = pd.concat(lista_short_trials)\n",
        "\n",
        "# adicionando a coluna de atividade\n",
        "df_shorts['trial'] = 2 # 2 para short\n",
        "\n",
        "\n",
        "# dataframe concatenando os dados de todas as classes\n",
        "lista_dfs = [df_d1, df_d2, df_u3, df_u4, df_si5, df_st6, df_w7,df_w8, df_j9,\n",
        "             df_d11, df_u12, df_si13, df_st14, df_w15, df_j16 ]\n",
        "             \n",
        "df_all = pd.concat(lista_dfs)\n"
      ],
      "execution_count": null,
      "outputs": []
    },
    {
      "cell_type": "code",
      "metadata": {
        "id": "BKauleWg4DSa"
      },
      "source": [
        "df_teste = df_j16.iloc[:, 1:12]\n"
      ],
      "execution_count": null,
      "outputs": []
    },
    {
      "cell_type": "code",
      "metadata": {
        "id": "_SBQsU9F5BCS",
        "colab": {
          "base_uri": "https://localhost:8080/",
          "height": 223
        },
        "outputId": "2e12763f-1a4f-4586-81c5-9b9f08b1d30e"
      },
      "source": [
        "df_teste.head()"
      ],
      "execution_count": null,
      "outputs": [
        {
          "output_type": "execute_result",
          "data": {
            "text/html": [
              "<div>\n",
              "<style scoped>\n",
              "    .dataframe tbody tr th:only-of-type {\n",
              "        vertical-align: middle;\n",
              "    }\n",
              "\n",
              "    .dataframe tbody tr th {\n",
              "        vertical-align: top;\n",
              "    }\n",
              "\n",
              "    .dataframe thead th {\n",
              "        text-align: right;\n",
              "    }\n",
              "</style>\n",
              "<table border=\"1\" class=\"dataframe\">\n",
              "  <thead>\n",
              "    <tr style=\"text-align: right;\">\n",
              "      <th></th>\n",
              "      <th>attitude.roll</th>\n",
              "      <th>attitude.pitch</th>\n",
              "      <th>attitude.yaw</th>\n",
              "      <th>gravity.x</th>\n",
              "      <th>gravity.y</th>\n",
              "      <th>gravity.z</th>\n",
              "      <th>rotationRate.x</th>\n",
              "      <th>rotationRate.y</th>\n",
              "      <th>rotationRate.z</th>\n",
              "      <th>userAcceleration.x</th>\n",
              "      <th>userAcceleration.y</th>\n",
              "    </tr>\n",
              "  </thead>\n",
              "  <tbody>\n",
              "    <tr>\n",
              "      <th>0</th>\n",
              "      <td>2.135357</td>\n",
              "      <td>-1.138555</td>\n",
              "      <td>1.678900</td>\n",
              "      <td>0.353903</td>\n",
              "      <td>0.908029</td>\n",
              "      <td>0.224134</td>\n",
              "      <td>-0.255821</td>\n",
              "      <td>0.499133</td>\n",
              "      <td>-0.725292</td>\n",
              "      <td>0.778940</td>\n",
              "      <td>0.051810</td>\n",
              "    </tr>\n",
              "    <tr>\n",
              "      <th>1</th>\n",
              "      <td>2.162745</td>\n",
              "      <td>-1.152928</td>\n",
              "      <td>1.739330</td>\n",
              "      <td>0.336766</td>\n",
              "      <td>0.913956</td>\n",
              "      <td>0.226435</td>\n",
              "      <td>-1.015571</td>\n",
              "      <td>-1.724624</td>\n",
              "      <td>-1.266134</td>\n",
              "      <td>0.613780</td>\n",
              "      <td>-0.112152</td>\n",
              "    </tr>\n",
              "    <tr>\n",
              "      <th>2</th>\n",
              "      <td>2.175561</td>\n",
              "      <td>-1.166584</td>\n",
              "      <td>1.770651</td>\n",
              "      <td>0.323538</td>\n",
              "      <td>0.919413</td>\n",
              "      <td>0.223615</td>\n",
              "      <td>0.784464</td>\n",
              "      <td>-0.237245</td>\n",
              "      <td>-0.759811</td>\n",
              "      <td>0.413660</td>\n",
              "      <td>-0.630365</td>\n",
              "    </tr>\n",
              "    <tr>\n",
              "      <th>3</th>\n",
              "      <td>2.105621</td>\n",
              "      <td>-1.194708</td>\n",
              "      <td>1.696332</td>\n",
              "      <td>0.315997</td>\n",
              "      <td>0.930108</td>\n",
              "      <td>0.187202</td>\n",
              "      <td>2.235062</td>\n",
              "      <td>-0.180857</td>\n",
              "      <td>-0.135523</td>\n",
              "      <td>0.372556</td>\n",
              "      <td>-0.915796</td>\n",
              "    </tr>\n",
              "    <tr>\n",
              "      <th>4</th>\n",
              "      <td>2.021151</td>\n",
              "      <td>-1.202365</td>\n",
              "      <td>1.626949</td>\n",
              "      <td>0.324243</td>\n",
              "      <td>0.932893</td>\n",
              "      <td>0.156769</td>\n",
              "      <td>0.528382</td>\n",
              "      <td>-1.351467</td>\n",
              "      <td>0.512080</td>\n",
              "      <td>0.139503</td>\n",
              "      <td>-1.002214</td>\n",
              "    </tr>\n",
              "  </tbody>\n",
              "</table>\n",
              "</div>"
            ],
            "text/plain": [
              "   attitude.roll  attitude.pitch  ...  userAcceleration.x  userAcceleration.y\n",
              "0       2.135357       -1.138555  ...            0.778940            0.051810\n",
              "1       2.162745       -1.152928  ...            0.613780           -0.112152\n",
              "2       2.175561       -1.166584  ...            0.413660           -0.630365\n",
              "3       2.105621       -1.194708  ...            0.372556           -0.915796\n",
              "4       2.021151       -1.202365  ...            0.139503           -1.002214\n",
              "\n",
              "[5 rows x 11 columns]"
            ]
          },
          "metadata": {
            "tags": []
          },
          "execution_count": 10
        }
      ]
    },
    {
      "cell_type": "markdown",
      "metadata": {
        "id": "C6-OqA2ASOH-"
      },
      "source": [
        "# Análise descritiva dos dados\n",
        "Base de dados utilizada disponível no [kaggle](https://www.kaggle.com/malekzadeh/motionsense-dataset/data#) "
      ]
    },
    {
      "cell_type": "code",
      "metadata": {
        "id": "rdWhnx84h-yR"
      },
      "source": [
        "# Informações sobre os participantes do experimento\n",
        "\n",
        "df_info = pd.read_csv(root_path + 'data_subjects_info.csv')\n",
        "df_info.set_index('code', inplace = True)"
      ],
      "execution_count": null,
      "outputs": []
    },
    {
      "cell_type": "code",
      "metadata": {
        "id": "7wNDWiG8JmTg",
        "colab": {
          "base_uri": "https://localhost:8080/",
          "height": 223
        },
        "outputId": "6b0fcea1-63f8-429f-f424-b6a7aaba1cdd"
      },
      "source": [
        "df_all = pd.merge(df_all, df_info, left_on = 'code', right_on = 'code')\n",
        "del df_all['Unnamed: 0']\n",
        "df_all.head()"
      ],
      "execution_count": null,
      "outputs": [
        {
          "output_type": "execute_result",
          "data": {
            "text/html": [
              "<div>\n",
              "<style scoped>\n",
              "    .dataframe tbody tr th:only-of-type {\n",
              "        vertical-align: middle;\n",
              "    }\n",
              "\n",
              "    .dataframe tbody tr th {\n",
              "        vertical-align: top;\n",
              "    }\n",
              "\n",
              "    .dataframe thead th {\n",
              "        text-align: right;\n",
              "    }\n",
              "</style>\n",
              "<table border=\"1\" class=\"dataframe\">\n",
              "  <thead>\n",
              "    <tr style=\"text-align: right;\">\n",
              "      <th></th>\n",
              "      <th>attitude.roll</th>\n",
              "      <th>attitude.pitch</th>\n",
              "      <th>attitude.yaw</th>\n",
              "      <th>gravity.x</th>\n",
              "      <th>gravity.y</th>\n",
              "      <th>gravity.z</th>\n",
              "      <th>rotationRate.x</th>\n",
              "      <th>rotationRate.y</th>\n",
              "      <th>rotationRate.z</th>\n",
              "      <th>userAcceleration.x</th>\n",
              "      <th>userAcceleration.y</th>\n",
              "      <th>userAcceleration.z</th>\n",
              "      <th>class</th>\n",
              "      <th>code</th>\n",
              "      <th>weight</th>\n",
              "      <th>height</th>\n",
              "      <th>age</th>\n",
              "      <th>gender</th>\n",
              "    </tr>\n",
              "  </thead>\n",
              "  <tbody>\n",
              "    <tr>\n",
              "      <th>0</th>\n",
              "      <td>1.528132</td>\n",
              "      <td>-0.733896</td>\n",
              "      <td>0.696372</td>\n",
              "      <td>0.741895</td>\n",
              "      <td>0.669768</td>\n",
              "      <td>-0.031672</td>\n",
              "      <td>0.316738</td>\n",
              "      <td>0.778180</td>\n",
              "      <td>1.082764</td>\n",
              "      <td>0.294894</td>\n",
              "      <td>-0.184493</td>\n",
              "      <td>0.377542</td>\n",
              "      <td>0</td>\n",
              "      <td>1</td>\n",
              "      <td>102</td>\n",
              "      <td>188</td>\n",
              "      <td>46</td>\n",
              "      <td>1</td>\n",
              "    </tr>\n",
              "    <tr>\n",
              "      <th>1</th>\n",
              "      <td>1.527992</td>\n",
              "      <td>-0.716987</td>\n",
              "      <td>0.677762</td>\n",
              "      <td>0.753099</td>\n",
              "      <td>0.657116</td>\n",
              "      <td>-0.032255</td>\n",
              "      <td>0.842032</td>\n",
              "      <td>0.424446</td>\n",
              "      <td>0.643574</td>\n",
              "      <td>0.219405</td>\n",
              "      <td>0.035846</td>\n",
              "      <td>0.114866</td>\n",
              "      <td>0</td>\n",
              "      <td>1</td>\n",
              "      <td>102</td>\n",
              "      <td>188</td>\n",
              "      <td>46</td>\n",
              "      <td>1</td>\n",
              "    </tr>\n",
              "    <tr>\n",
              "      <th>2</th>\n",
              "      <td>1.527765</td>\n",
              "      <td>-0.706999</td>\n",
              "      <td>0.670951</td>\n",
              "      <td>0.759611</td>\n",
              "      <td>0.649555</td>\n",
              "      <td>-0.032707</td>\n",
              "      <td>-0.138143</td>\n",
              "      <td>-0.040741</td>\n",
              "      <td>0.343563</td>\n",
              "      <td>0.010714</td>\n",
              "      <td>0.134701</td>\n",
              "      <td>-0.167808</td>\n",
              "      <td>0</td>\n",
              "      <td>1</td>\n",
              "      <td>102</td>\n",
              "      <td>188</td>\n",
              "      <td>46</td>\n",
              "      <td>1</td>\n",
              "    </tr>\n",
              "    <tr>\n",
              "      <th>3</th>\n",
              "      <td>1.516768</td>\n",
              "      <td>-0.704678</td>\n",
              "      <td>0.675735</td>\n",
              "      <td>0.760709</td>\n",
              "      <td>0.647788</td>\n",
              "      <td>-0.041140</td>\n",
              "      <td>-0.025005</td>\n",
              "      <td>-1.048717</td>\n",
              "      <td>0.035860</td>\n",
              "      <td>-0.008389</td>\n",
              "      <td>0.136788</td>\n",
              "      <td>0.094958</td>\n",
              "      <td>0</td>\n",
              "      <td>1</td>\n",
              "      <td>102</td>\n",
              "      <td>188</td>\n",
              "      <td>46</td>\n",
              "      <td>1</td>\n",
              "    </tr>\n",
              "    <tr>\n",
              "      <th>4</th>\n",
              "      <td>1.493941</td>\n",
              "      <td>-0.703918</td>\n",
              "      <td>0.672994</td>\n",
              "      <td>0.760062</td>\n",
              "      <td>0.647210</td>\n",
              "      <td>-0.058530</td>\n",
              "      <td>0.114253</td>\n",
              "      <td>-0.912890</td>\n",
              "      <td>0.047341</td>\n",
              "      <td>0.199441</td>\n",
              "      <td>0.353996</td>\n",
              "      <td>-0.044299</td>\n",
              "      <td>0</td>\n",
              "      <td>1</td>\n",
              "      <td>102</td>\n",
              "      <td>188</td>\n",
              "      <td>46</td>\n",
              "      <td>1</td>\n",
              "    </tr>\n",
              "  </tbody>\n",
              "</table>\n",
              "</div>"
            ],
            "text/plain": [
              "   attitude.roll  attitude.pitch  attitude.yaw  ...  height  age  gender\n",
              "0       1.528132       -0.733896      0.696372  ...     188   46       1\n",
              "1       1.527992       -0.716987      0.677762  ...     188   46       1\n",
              "2       1.527765       -0.706999      0.670951  ...     188   46       1\n",
              "3       1.516768       -0.704678      0.675735  ...     188   46       1\n",
              "4       1.493941       -0.703918      0.672994  ...     188   46       1\n",
              "\n",
              "[5 rows x 18 columns]"
            ]
          },
          "metadata": {
            "tags": []
          },
          "execution_count": 6
        }
      ]
    },
    {
      "cell_type": "code",
      "metadata": {
        "id": "5Ei3l6_Iar_Z",
        "colab": {
          "base_uri": "https://localhost:8080/",
          "height": 352
        },
        "outputId": "1ddc0986-10a8-49f7-c24e-f1de34a8732d"
      },
      "source": [
        "# distribuição dos participantes por gênero\n",
        "\n",
        "num_homens = df_info['gender'].sum()\n",
        "num_mulheres = len(df_info) - num_homens\n",
        "fig = plt.figure()\n",
        "ax = fig.add_axes([0,0,1,1])\n",
        "label = ['Mulheres', 'Homens']\n",
        "genero = [num_mulheres, num_homens]\n",
        "plt.title('Distribuição de gênero dos participantes')\n",
        "ax.bar(label,genero)\n",
        "plt.show()"
      ],
      "execution_count": null,
      "outputs": [
        {
          "output_type": "display_data",
          "data": {
            "image/png": "[encoded data removed]",
            "text/plain": [
              "<Figure size 432x288 with 1 Axes>"
            ]
          },
          "metadata": {
            "tags": [],
            "needs_background": "light"
          }
        }
      ]
    },
    {
      "cell_type": "code",
      "metadata": {
        "id": "_xDs5vUFpnjK",
        "colab": {
          "base_uri": "https://localhost:8080/",
          "height": 352
        },
        "outputId": "5259426c-012a-4483-fbbf-90c2167a04bf"
      },
      "source": [
        "# distribuição por faixa etária\n",
        "\n",
        "f1 = len(df_info[(df_info['age'] >= 18) & (df_info['age'] <= 25)])\n",
        "f2 = len(df_info[(df_info['age'] >= 26) & (df_info['age'] <= 33)])\n",
        "f3 = len(df_info[(df_info['age'] >= 34) & (df_info['age'] <= 46)])\n",
        "\n",
        "fig = plt.figure()\n",
        "ax = fig.add_axes([0,0,1,1])\n",
        "label = ['18 a 25 anos', '26 a 33 anos','34 a 46 anos']\n",
        "idades = [f1, f2, f3]\n",
        "plt.title('Distribuição de faixa etária dos participantes')\n",
        "ax.bar(label,idades)\n",
        "plt.show()\n"
      ],
      "execution_count": null,
      "outputs": [
        {
          "output_type": "display_data",
          "data": {
            "image/png": "[encoded data removed]",
            "text/plain": [
              "<Figure size 432x288 with 1 Axes>"
            ]
          },
          "metadata": {
            "tags": [],
            "needs_background": "light"
          }
        }
      ]
    },
    {
      "cell_type": "code",
      "metadata": {
        "id": "xsFb9X0Ae-W_",
        "colab": {
          "base_uri": "https://localhost:8080/",
          "height": 299
        },
        "outputId": "2687635d-9c00-4d89-f4f8-06c1c6f68e00"
      },
      "source": [
        "# distribuição das classes no dataframe de acordo com o gênero\n",
        "men_dws = len(df_all[(df_all['class'] == 0) & (df_all['gender'] == 1)])\n",
        "wo_dws = len(df_all[(df_all['class'] == 0) & (df_all['gender'] == 0)])\n",
        "\n",
        "men_ups = len(df_all[(df_all['class'] == 1) & (df_all['gender'] == 1)])\n",
        "wo_ups = len(df_all[(df_all['class'] == 1) & (df_all['gender'] == 0)])\n",
        "\n",
        "men_sit = len(df_all[(df_all['class'] == 2) & (df_all['gender'] == 1)])\n",
        "wo_sit = len(df_all[(df_all['class'] == 2) & (df_all['gender'] == 0)])\n",
        "\n",
        "men_std = len(df_all[(df_all['class'] == 3) & (df_all['gender'] == 1)])\n",
        "wo_std = len(df_all[(df_all['class'] == 3) & (df_all['gender'] == 0)])\n",
        "\n",
        "men_wlk = len(df_all[(df_all['class'] == 4) & (df_all['gender'] == 1)])\n",
        "wo_wlk = len(df_all[(df_all['class'] == 4) & (df_all['gender'] == 0)])\n",
        "\n",
        "men_jog = len(df_all[(df_all['class'] == 5) & (df_all['gender'] == 1)])\n",
        "wo_jog = len(df_all[(df_all['class'] == 5) & (df_all['gender'] == 0)])\n",
        "\n",
        "labels = ['Dws', 'Ups', 'Sit', 'Std', 'Wlk', 'Jog']\n",
        "women_total = [wo_dws, wo_ups, wo_sit, wo_std, wo_wlk, wo_jog ]\n",
        "men_total = [ men_dws, men_ups, men_sit, men_std, men_wlk, men_jog]\n",
        "\n",
        "\n",
        "x = np.arange(len(labels))  # the label locations\n",
        "width = 0.35  # the width of the bars\n",
        "\n",
        "fig, ax = plt.subplots()\n",
        "rects1 = ax.bar(x - width/3, men_total, width, label='Homens')\n",
        "rects2 = ax.bar(x + width/3, women_total, width, label='Mulheres')\n",
        "\n",
        "\n",
        "\n",
        "\n",
        "ax.set_ylabel('Exemplos')\n",
        "ax.set_title('Exemplos por classe e gênero')\n",
        "ax.set_xticks(x)\n",
        "ax.set_xticklabels(labels)\n",
        "ax.legend()"
      ],
      "execution_count": null,
      "outputs": [
        {
          "output_type": "execute_result",
          "data": {
            "text/plain": [
              "<matplotlib.legend.Legend at 0x7f9c14074a20>"
            ]
          },
          "metadata": {
            "tags": []
          },
          "execution_count": 17
        },
        {
          "output_type": "display_data",
          "data": {
            "image/png": "[encoded data removed]",
            "text/plain": [
              "<Figure size 432x288 with 1 Axes>"
            ]
          },
          "metadata": {
            "tags": [],
            "needs_background": "light"
          }
        }
      ]
    },
    {
      "cell_type": "code",
      "metadata": {
        "id": "38lEfyytrPbh",
        "colab": {
          "base_uri": "https://localhost:8080/",
          "height": 352
        },
        "outputId": "987a3bdf-8671-434e-931f-6e0ab29e8c96"
      },
      "source": [
        "# aceleração média por atividade\n",
        "df_all['acctotal'] = np.sqrt(np.square(df_all['userAcceleration.x']) + np.square(df_all['userAcceleration.y']) + np.square(df_all['userAcceleration.z']))\n",
        "\n",
        "ativ_1 = df_all[df_all['class'] == 0]\n",
        "ac_1 = ativ_1['acctotal'].sum() / len(ativ_1)\n",
        "\n",
        "ativ_2 = df_all[df_all['class'] == 1]\n",
        "ac_2 = ativ_2['acctotal'].sum() / len(ativ_2)\n",
        "\n",
        "ativ_3 = df_all[df_all['class'] == 2]\n",
        "ac_3 = ativ_3['acctotal'].sum() / len(ativ_3)\n",
        "\n",
        "ativ_4 = df_all[df_all['class'] == 3]\n",
        "ac_4 = ativ_4['acctotal'].sum() / len(ativ_4)\n",
        "\n",
        "ativ_5 = df_all[df_all['class'] == 4]\n",
        "ac_5 = ativ_5['acctotal'].sum() / len(ativ_5)\n",
        "\n",
        "ativ_6 = df_all[df_all['class'] == 5]\n",
        "ac_6 = ativ_6['acctotal'].sum() / len(ativ_6)\n",
        "\n",
        "\n",
        "\n",
        "fig = plt.figure()\n",
        "ax = fig.add_axes([0,0,1,1])\n",
        "label = ['Dws', 'Ups', 'Sit', 'Std', 'Wlk', 'Jog']\n",
        "idades = [ac_1, ac_2, ac_3, ac_4, ac_5, ac_6]\n",
        "plt.title('Aceleração Média por Atividade')\n",
        "ax.bar(label,idades)\n",
        "plt.show()"
      ],
      "execution_count": null,
      "outputs": [
        {
          "output_type": "display_data",
          "data": {
            "image/png": "[encoded data removed]",
            "text/plain": [
              "<Figure size 432x288 with 1 Axes>"
            ]
          },
          "metadata": {
            "tags": [],
            "needs_background": "light"
          }
        }
      ]
    },
    {
      "cell_type": "code",
      "metadata": {
        "id": "iqMEPPF-zmKV",
        "colab": {
          "base_uri": "https://localhost:8080/",
          "height": 280
        },
        "outputId": "930ea85e-e887-4b04-aa5b-64644b7c7c90"
      },
      "source": [
        "# aceleração média por idade e atividade corrida\n",
        "df_all['acctotal'] = np.sqrt(np.square(df_all['userAcceleration.x']) + np.square(df_all['userAcceleration.y']) + np.square(df_all['userAcceleration.z']))\n",
        "\n",
        "# grupo etario 1\n",
        "ativ_15 = df_all[(df_all['age'] >= 18) & (df_all['age'] <= 25) & (df_all['class'] == 5) ]\n",
        "g1_5 = ativ_15['acctotal'].sum() / len(ativ_15)\n",
        "\n",
        "ativ_14 = df_all[(df_all['age'] >= 18) & (df_all['age'] <= 25) & (df_all['class'] == 4) ]\n",
        "g1_4 = ativ_14['acctotal'].sum() / len(ativ_15)\n",
        "\n",
        "ativ_13 = df_all[(df_all['age'] >= 18) & (df_all['age'] <= 25) & (df_all['class'] == 3) ]\n",
        "g1_3 = ativ_13['acctotal'].sum() / len(ativ_13)\n",
        "\n",
        "ativ_12 = df_all[(df_all['age'] >= 18) & (df_all['age'] <= 25) & (df_all['class'] == 2) ]\n",
        "g1_2 = ativ_12['acctotal'].sum() / len(ativ_12)\n",
        "\n",
        "ativ_11 = df_all[(df_all['age'] >= 18) & (df_all['age'] <= 25) & (df_all['class'] == 1) ]\n",
        "g1_1 = ativ_11['acctotal'].sum() / len(ativ_11)\n",
        "\n",
        "ativ_10 = df_all[(df_all['age'] >= 18) & (df_all['age'] <= 25) & (df_all['class'] == 0) ]\n",
        "g1_0 = ativ_10['acctotal'].sum() / len(ativ_10)\n",
        "\n",
        "# grupo etario 2\n",
        "ativ_25 = df_all[(df_all['age'] >= 26) & (df_all['age'] <= 33) & (df_all['class'] == 5) ]\n",
        "g2_5 = ativ_25['acctotal'].sum() / len(ativ_25)\n",
        "\n",
        "ativ_24 = df_all[(df_all['age'] >=26) & (df_all['age'] <=33) & (df_all['class'] == 4) ]\n",
        "g2_4 = ativ_24['acctotal'].sum() / len(ativ_24)\n",
        "\n",
        "ativ_23 = df_all[(df_all['age'] >= 26) & (df_all['age'] <= 33) & (df_all['class'] == 3) ]\n",
        "g2_3 = ativ_23['acctotal'].sum() / len(ativ_23)\n",
        "\n",
        "ativ_22 = df_all[(df_all['age'] >= 26) & (df_all['age'] <= 33) & (df_all['class'] == 2) ]\n",
        "g2_2 = ativ_22['acctotal'].sum() / len(ativ_22)\n",
        "\n",
        "ativ_21 = df_all[(df_all['age'] >= 26) & (df_all['age'] <= 33) & (df_all['class'] == 1) ]\n",
        "g2_1 = ativ_21['acctotal'].sum() / len(ativ_21)\n",
        "\n",
        "ativ_20 = df_all[(df_all['age'] >= 26) & (df_all['age'] <= 33) & (df_all['class'] == 0) ]\n",
        "g2_0 = ativ_20['acctotal'].sum() / len(ativ_20)\n",
        "\n",
        "# grupo etario 3\n",
        "ativ_35 = df_all[(df_all['age'] >=34) & (df_all['age'] <=46) & (df_all['class'] == 5) ]\n",
        "g3_5 = ativ_35['acctotal'].sum() / len(ativ_35)\n",
        "\n",
        "ativ_34 = df_all[(df_all['age'] >=34) & (df_all['age'] <=46) & (df_all['class'] == 4) ]\n",
        "g3_4 = ativ_34['acctotal'].sum() / len(ativ_34)\n",
        "\n",
        "ativ_33 = df_all[(df_all['age'] >= 34) & (df_all['age'] <= 46) & (df_all['class'] == 3) ]\n",
        "g3_3 = ativ_33['acctotal'].sum() / len(ativ_33)\n",
        "\n",
        "ativ_32 = df_all[(df_all['age'] >= 34) & (df_all['age'] <= 46) & (df_all['class'] == 2) ]\n",
        "g3_2 = ativ_32['acctotal'].sum() / len(ativ_32)\n",
        "\n",
        "ativ_31 = df_all[(df_all['age'] >= 34) & (df_all['age'] <= 46) & (df_all['class'] == 1) ]\n",
        "g3_1 = ativ_31['acctotal'].sum() / len(ativ_31)\n",
        "\n",
        "ativ_30 = df_all[(df_all['age'] >= 34) & (df_all['age'] <= 46) & (df_all['class'] == 0) ]\n",
        "g3_0 = ativ_30['acctotal'].sum() / len(ativ_30)\n",
        "\n",
        "barWidth = 0.25\n",
        "\n",
        "bars1 = [g1_0, g1_1, g1_2, g1_3, g1_4, g1_5 ]\n",
        "bars2 = [ g2_0, g2_1, g2_2,g2_3, g2_4, g2_5]\n",
        "bars3 = [g3_0, g3_1, g3_2, g3_3, g3_4, g3_5]\n",
        "\n",
        " \n",
        "# Set position of bar on X axis\n",
        "r1 = np.arange(len(bars1))\n",
        "r2 = [x + barWidth for x in r1]\n",
        "r3 = [x + barWidth for x in r2]\n",
        " \n",
        "# Make the plot\n",
        "plt.bar(r1, bars1, color='#E4D9FF', width=barWidth, edgecolor='white', label='18 a 25')\n",
        "plt.bar(r2, bars2, color='#273469', width=barWidth, edgecolor='white', label='26 a 33')\n",
        "plt.bar(r3, bars3, color='#30343F', width=barWidth, edgecolor='white', label='33 a 46')\n",
        " \n",
        "# Add xticks on the middle of the group bars\n",
        "plt.xlabel('Aceleração média por faixa etária e atividade', fontweight='bold')\n",
        "plt.xticks([r + barWidth for r in range(len(bars1))],['Dws', 'Ups', 'Sit', 'Std', 'Wlk', 'Jog'] )\n",
        "\n",
        "\n",
        " \n",
        "# Create legend & Show graphic\n",
        "plt.legend()\n",
        "plt.show()\n"
      ],
      "execution_count": null,
      "outputs": [
        {
          "output_type": "display_data",
          "data": {
            "image/png": "[encoded data removed]",
            "text/plain": [
              "<Figure size 432x288 with 1 Axes>"
            ]
          },
          "metadata": {
            "tags": [],
            "needs_background": "light"
          }
        }
      ]
    },
    {
      "cell_type": "markdown",
      "metadata": {
        "id": "9UMf6q3shE7j"
      },
      "source": [
        "# Agrupamento feito pelo K-means\n",
        "Utilizando PCA para plotar o gráfico dos grupos formados pelo K-means\n",
        "utilizando as duas principais features "
      ]
    },
    {
      "cell_type": "code",
      "metadata": {
        "id": "QhTXrP5z4Z64",
        "colab": {
          "base_uri": "https://localhost:8080/",
          "height": 69
        },
        "outputId": "b0262784-37f4-46df-9521-d3b3ddbfe76f"
      },
      "source": [
        "array_kmeans = np.array(df_all)\n",
        "array_kmeans = array_kmeans[:,0:12]\n",
        "df_kmeans = pd.DataFrame(array_kmeans)\n",
        "df_kmeans.head()\n",
        "\n",
        "pca = PCA(n_components=2).fit(df_kmeans)\n",
        "pca_2d = pca.transform(df_kmeans)\n",
        "\n",
        "# Usando o K-Means\n",
        "k = 6\n",
        "kmeans = KMeans(n_clusters=k,random_state=0)\n",
        "kmeans.fit(df_kmeans)\n"
      ],
      "execution_count": null,
      "outputs": [
        {
          "output_type": "execute_result",
          "data": {
            "text/plain": [
              "KMeans(algorithm='auto', copy_x=True, init='k-means++', max_iter=300,\n",
              "       n_clusters=6, n_init=10, n_jobs=None, precompute_distances='auto',\n",
              "       random_state=0, tol=0.0001, verbose=0)"
            ]
          },
          "metadata": {
            "tags": []
          },
          "execution_count": 158
        }
      ]
    },
    {
      "cell_type": "code",
      "metadata": {
        "id": "r8X2NGmR5uIZ",
        "colab": {
          "base_uri": "https://localhost:8080/",
          "height": 281
        },
        "outputId": "625ee866-a658-420b-a0d1-3b69ce1bf22e"
      },
      "source": [
        "# plotando o gráfico utilizando 6000 exemplos da base de dados\n",
        "\n",
        "\n",
        "for i in range(0, 6000):\n",
        "\n",
        "  if kmeans.labels_[i] == 0:\n",
        "    c1 = pl.scatter(pca_2d[i,0],pca_2d[i,1],c='b',\n",
        "    marker='o')\n",
        "  elif kmeans.labels_[i] == 1:\n",
        "    c2 = pl.scatter(pca_2d[i,0],pca_2d[i,1],c='g',\n",
        "    marker='+')\n",
        "  elif kmeans.labels_[i] == 2:\n",
        "    c3 = pl.scatter(pca_2d[i,0],pca_2d[i,1],c='b',\n",
        "    marker='*')\n",
        "\n",
        "  elif kmeans.labels_[i] == 3:\n",
        "    c4 = pl.scatter(pca_2d[i,0],pca_2d[i,1],c='g',\n",
        "    marker='o')\n",
        "\n",
        "  elif kmeans.labels_[i] == 4:\n",
        "    c5 = pl.scatter(pca_2d[i,0],pca_2d[i,1],c='r',\n",
        "    marker='x')\n",
        "\n",
        "  elif kmeans.labels_[i] == 5:\n",
        "    c6 = pl.scatter(pca_2d[i,0],pca_2d[i,1],c='b',\n",
        "    marker='+') \n",
        "\n",
        "pl.legend([c1, c2, c3, c4, c5, c6],['Cluster 1', 'Cluster 2','Cluster 3', 'Cluster 4', 'Cluster 5', 'Cluster 6'])\n",
        "\n",
        "pl.title('K-means clusters ')\n",
        "pl.show()\n"
      ],
      "execution_count": null,
      "outputs": [
        {
          "output_type": "display_data",
          "data": {
            "image/png": "[encoded data removed]",
            "text/plain": [
              "<Figure size 432x288 with 1 Axes>"
            ]
          },
          "metadata": {
            "tags": [],
            "needs_background": "light"
          }
        }
      ]
    },
    {
      "cell_type": "markdown",
      "metadata": {
        "id": "WNwkfX6CitTv"
      },
      "source": [
        "#Classificação usando Deep Learning"
      ]
    },
    {
      "cell_type": "code",
      "metadata": {
        "id": "hnOASYTwueYT"
      },
      "source": [
        "array_all = np.array(df_all)\n",
        "\n",
        "# Removendo as colunas de classe do dataframe\n",
        "array_all_noclass = array_all[:, 0:12]\n",
        "\n",
        "# Criando um dataframe apenas com as classes\n",
        "all_class = array_all[:,]"
      ],
      "execution_count": null,
      "outputs": []
    },
    {
      "cell_type": "code",
      "metadata": {
        "id": "xLoHjhKwGH_8",
        "colab": {
          "base_uri": "https://localhost:8080/",
          "height": 537
        },
        "outputId": "25ef450c-bf29-4acc-ed9d-f5022584229d"
      },
      "source": [
        "# dividindo a base de dados em treino e teste\n",
        "noclass_train, noclass_test, class_train, class_test = train_test_split(array_all_noclass, all_class, test_size=0.02)\n",
        "\n",
        "# transformando os dados para a forma de one hot encoding\n",
        "class_train_categorical = keras.utils.to_categorical(class_train, num_classes=6)\n",
        "class_test_categorical = keras.utils.to_categorical(class_test, num_classes=6)\n",
        "\n",
        "# criando a arquitetura da rede\n",
        "modelo = Sequential()\n",
        "modelo.add(Dense(units=200, activation='relu',kernel_initializer='random_uniform', input_dim=array_all_noclass.shape[1]))\n",
        "modelo.add(Dense(units=200, activation='relu',kernel_initializer='random_uniform'))\n",
        "modelo.add(Dense(units=200, activation='relu',kernel_initializer='random_uniform'))\n",
        "modelo.add(Dense(units=200, activation='relu',kernel_initializer='random_uniform'))\n",
        "modelo.add(Dense(units=6, activation='softmax'))\n",
        "\n",
        "# configurando o otimizador\n",
        "optimizer = keras.optimizers.Adam(lr = 0.001, decay =0.0001, clipvalue= 0.5)\n",
        "modelo.compile(optimizer=optimizer, loss='categorical_crossentropy', metrics=['accuracy'])\n",
        "\n",
        "\n",
        "modelo.fit(noclass_train, class_train_categorical,validation_data=(noclass_test, class_test_categorical),batch_size=256, epochs=15)\n",
        "\n",
        "pesos0 =  modelo.layers[0].get_weights()\n",
        "previsoes = modelo.predict(noclass_test)"
      ],
      "execution_count": null,
      "outputs": [
        {
          "output_type": "stream",
          "text": [
            "Epoch 1/15\n",
            "5409/5409 [==============================] - 41s 8ms/step - loss: 0.4450 - accuracy: 0.8298 - val_loss: 0.3481 - val_accuracy: 0.8735\n",
            "Epoch 2/15\n",
            "5409/5409 [==============================] - 41s 8ms/step - loss: 0.3309 - accuracy: 0.8789 - val_loss: 0.3057 - val_accuracy: 0.8894\n",
            "Epoch 3/15\n",
            "5409/5409 [==============================] - 41s 8ms/step - loss: 0.2936 - accuracy: 0.8937 - val_loss: 0.2802 - val_accuracy: 0.8984\n",
            "Epoch 4/15\n",
            "5409/5409 [==============================] - 42s 8ms/step - loss: 0.2715 - accuracy: 0.9024 - val_loss: 0.2610 - val_accuracy: 0.9060\n",
            "Epoch 5/15\n",
            "5409/5409 [==============================] - 41s 8ms/step - loss: 0.2560 - accuracy: 0.9082 - val_loss: 0.2492 - val_accuracy: 0.9122\n",
            "Epoch 6/15\n",
            "5409/5409 [==============================] - 42s 8ms/step - loss: 0.2442 - accuracy: 0.9127 - val_loss: 0.2444 - val_accuracy: 0.9130\n",
            "Epoch 7/15\n",
            "5409/5409 [==============================] - 44s 8ms/step - loss: 0.2353 - accuracy: 0.9160 - val_loss: 0.2364 - val_accuracy: 0.9164\n",
            "Epoch 8/15\n",
            "5409/5409 [==============================] - 41s 7ms/step - loss: 0.2276 - accuracy: 0.9191 - val_loss: 0.2317 - val_accuracy: 0.9184\n",
            "Epoch 9/15\n",
            "5409/5409 [==============================] - 41s 8ms/step - loss: 0.2215 - accuracy: 0.9214 - val_loss: 0.2279 - val_accuracy: 0.9198\n",
            "Epoch 10/15\n",
            "5409/5409 [==============================] - 41s 8ms/step - loss: 0.2163 - accuracy: 0.9233 - val_loss: 0.2233 - val_accuracy: 0.9196\n",
            "Epoch 11/15\n",
            "5409/5409 [==============================] - 41s 8ms/step - loss: 0.2117 - accuracy: 0.9248 - val_loss: 0.2187 - val_accuracy: 0.9235\n",
            "Epoch 12/15\n",
            "5409/5409 [==============================] - 41s 8ms/step - loss: 0.2077 - accuracy: 0.9264 - val_loss: 0.2194 - val_accuracy: 0.9230\n",
            "Epoch 13/15\n",
            "5409/5409 [==============================] - 41s 8ms/step - loss: 0.2042 - accuracy: 0.9276 - val_loss: 0.2182 - val_accuracy: 0.9226\n",
            "Epoch 14/15\n",
            "5409/5409 [==============================] - 41s 8ms/step - loss: 0.2010 - accuracy: 0.9289 - val_loss: 0.2136 - val_accuracy: 0.9253\n",
            "Epoch 15/15\n",
            "5409/5409 [==============================] - 41s 8ms/step - loss: 0.1980 - accuracy: 0.9298 - val_loss: 0.2125 - val_accuracy: 0.9248\n"
          ],
          "name": "stdout"
        }
      ]
    },
    {
      "cell_type": "code",
      "metadata": {
        "id": "P6ZDJMkTztu5",
        "colab": {
          "base_uri": "https://localhost:8080/",
          "height": 86
        },
        "outputId": "99b1fa99-425f-4829-d9cd-da4b63d2feaa"
      },
      "source": [
        "# Resultados da classificação no conjunto de teste\n",
        "\n",
        "a = [np.argmax(pred) for pred in modelo.predict(noclass_test)]\n",
        "recall = recall_score(class_test, a, average='macro')\n",
        "fscore = f1_score(class_test, a, average='macro')\n",
        "precision = precision_score(class_test, a, average='macro')\n",
        "accuracy = accuracy_score(class_test, a)\n",
        "\n",
        "print('Recall ', recall)\n",
        "print('F-score ', fscore)\n",
        "print('Precision ', precision)\n",
        "print('Accuracy ', accuracy)\n"
      ],
      "execution_count": null,
      "outputs": [
        {
          "output_type": "stream",
          "text": [
            "Recall  0.8942705197458607\n",
            "F-score  0.8963082133434046\n",
            "Precision  0.8986356878768844\n",
            "Accuracy  0.9248354448297827\n"
          ],
          "name": "stdout"
        }
      ]
    }
  ]
}